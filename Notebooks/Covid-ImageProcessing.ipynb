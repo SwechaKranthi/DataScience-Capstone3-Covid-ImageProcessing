{
 "cells": [
  {
   "cell_type": "markdown",
   "id": "ac18f540-a088-4a17-b092-d247ec3db18e",
   "metadata": {},
   "source": [
    "# Capstone 3: Corona Chest X-ray Image Processing"
   ]
  },
  {
   "cell_type": "markdown",
   "id": "f2dfa22c-def3-454a-8fba-75daaf87b0fe",
   "metadata": {},
   "source": [
    "## 0. Libraries"
   ]
  },
  {
   "cell_type": "code",
   "execution_count": 3,
   "id": "71fd65ee-2e63-4394-9d5e-254932341b2c",
   "metadata": {},
   "outputs": [],
   "source": [
    "import numpy as np # linear algebra\n",
    "import pandas as pd # data processing, CSV file I/O (e.g. pd.read_csv)\n",
    "from sklearn.model_selection import train_test_split # splitting train and validation data\n",
    "\n",
    "# For visualizing images\n",
    "import matplotlib.pyplot as plt\n",
    "import seaborn as sns\n",
    "import matplotlib.image as mpimg\n",
    "import random\n",
    "from plotly.subplots import make_subplots\n",
    "import plotly.graph_objects as go\n",
    "\n",
    "# For augmenting data\n",
    "from tensorflow.keras.preprocessing.image import ImageDataGenerator\n",
    "\n",
    "# For modelling\n",
    "import tensorflow as tf\n",
    "from tensorflow import keras\n",
    "from tensorflow.keras.optimizers import Adam\n",
    "from tensorflow.keras.layers import Dense, Flatten, Conv2D, MaxPool2D, Activation\n",
    "from tensorflow.keras import Sequential, layers\n",
    "import tensorflow_hub as hub\n",
    "from sklearn.model_selection import StratifiedKFold\n",
    "\n",
    "# For evaluation\n",
    "from sklearn.metrics import classification_report, confusion_matrix, roc_curve\n",
    "\n",
    "import os"
   ]
  },
  {
   "cell_type": "markdown",
   "id": "47f4412e-36f9-4532-83f0-e157901aecff",
   "metadata": {},
   "source": [
    "## 1. Data Wrangling\n",
    "\n",
    "- 1.1. Data Loading\n",
    "- 1.2. scale thresholding\n",
    "- 1.3. applying filters\n",
    "- 1.4. transformations\n",
    "- 1.5. segmentation"
   ]
  },
  {
   "cell_type": "markdown",
   "id": "696d9dfa-8002-4cf2-86e0-d5c50c68a22d",
   "metadata": {},
   "source": [
    "### 1.1 Data Loading"
   ]
  },
  {
   "cell_type": "code",
   "execution_count": 8,
   "id": "083a3ba6-55ec-43d2-b095-02a34295d60d",
   "metadata": {},
   "outputs": [],
   "source": [
    "metadata = pd.read_csv('../Data/Chest_xray_Corona_Metadata.csv')\n",
    "metadata_summary = pd.read_csv('../Data/Chest_xray_Corona_dataset_Summary.csv')\n",
    "\n",
    "train_data = metadata[metadata['Dataset_type'] == 'TRAIN']\n",
    "test_data = metadata[metadata['Dataset_type'] == 'TEST']\n",
    "\n",
    "train_directory = '../Data/Coronahack-Chest-XRay-Dataset/Coronahack-Chest-XRay-Dataset/train'\n",
    "test_directory = '../Data/Coronahack-Chest-XRay-Dataset/Coronahack-Chest-XRay-Dataset/test'"
   ]
  },
  {
   "cell_type": "code",
   "execution_count": 10,
   "id": "6352dfb9-8b20-484a-9d0d-e2c964c5880a",
   "metadata": {},
   "outputs": [
    {
     "data": {
      "text/html": [
       "<div>\n",
       "<style scoped>\n",
       "    .dataframe tbody tr th:only-of-type {\n",
       "        vertical-align: middle;\n",
       "    }\n",
       "\n",
       "    .dataframe tbody tr th {\n",
       "        vertical-align: top;\n",
       "    }\n",
       "\n",
       "    .dataframe thead th {\n",
       "        text-align: right;\n",
       "    }\n",
       "</style>\n",
       "<table border=\"1\" class=\"dataframe\">\n",
       "  <thead>\n",
       "    <tr style=\"text-align: right;\">\n",
       "      <th></th>\n",
       "      <th>Unnamed: 0</th>\n",
       "      <th>X_ray_image_name</th>\n",
       "      <th>Label</th>\n",
       "      <th>Dataset_type</th>\n",
       "      <th>Label_2_Virus_category</th>\n",
       "      <th>Label_1_Virus_category</th>\n",
       "    </tr>\n",
       "  </thead>\n",
       "  <tbody>\n",
       "    <tr>\n",
       "      <th>5905</th>\n",
       "      <td>5928</td>\n",
       "      <td>person1637_virus_2834.jpeg</td>\n",
       "      <td>Pnemonia</td>\n",
       "      <td>TEST</td>\n",
       "      <td>NaN</td>\n",
       "      <td>Virus</td>\n",
       "    </tr>\n",
       "    <tr>\n",
       "      <th>5906</th>\n",
       "      <td>5929</td>\n",
       "      <td>person1635_virus_2831.jpeg</td>\n",
       "      <td>Pnemonia</td>\n",
       "      <td>TEST</td>\n",
       "      <td>NaN</td>\n",
       "      <td>Virus</td>\n",
       "    </tr>\n",
       "    <tr>\n",
       "      <th>5907</th>\n",
       "      <td>5930</td>\n",
       "      <td>person1634_virus_2830.jpeg</td>\n",
       "      <td>Pnemonia</td>\n",
       "      <td>TEST</td>\n",
       "      <td>NaN</td>\n",
       "      <td>Virus</td>\n",
       "    </tr>\n",
       "    <tr>\n",
       "      <th>5908</th>\n",
       "      <td>5931</td>\n",
       "      <td>person1633_virus_2829.jpeg</td>\n",
       "      <td>Pnemonia</td>\n",
       "      <td>TEST</td>\n",
       "      <td>NaN</td>\n",
       "      <td>Virus</td>\n",
       "    </tr>\n",
       "    <tr>\n",
       "      <th>5909</th>\n",
       "      <td>5932</td>\n",
       "      <td>person1632_virus_2827.jpeg</td>\n",
       "      <td>Pnemonia</td>\n",
       "      <td>TEST</td>\n",
       "      <td>NaN</td>\n",
       "      <td>Virus</td>\n",
       "    </tr>\n",
       "  </tbody>\n",
       "</table>\n",
       "</div>"
      ],
      "text/plain": [
       "      Unnamed: 0            X_ray_image_name     Label Dataset_type  \\\n",
       "5905        5928  person1637_virus_2834.jpeg  Pnemonia         TEST   \n",
       "5906        5929  person1635_virus_2831.jpeg  Pnemonia         TEST   \n",
       "5907        5930  person1634_virus_2830.jpeg  Pnemonia         TEST   \n",
       "5908        5931  person1633_virus_2829.jpeg  Pnemonia         TEST   \n",
       "5909        5932  person1632_virus_2827.jpeg  Pnemonia         TEST   \n",
       "\n",
       "     Label_2_Virus_category Label_1_Virus_category  \n",
       "5905                    NaN                  Virus  \n",
       "5906                    NaN                  Virus  \n",
       "5907                    NaN                  Virus  \n",
       "5908                    NaN                  Virus  \n",
       "5909                    NaN                  Virus  "
      ]
     },
     "execution_count": 10,
     "metadata": {},
     "output_type": "execute_result"
    }
   ],
   "source": [
    "metadata.tail()"
   ]
  },
  {
   "cell_type": "code",
   "execution_count": 12,
   "id": "c3895e4c-f653-4e29-805b-3308cf06328e",
   "metadata": {},
   "outputs": [
    {
     "name": "stdout",
     "output_type": "stream",
     "text": [
      "<class 'pandas.core.frame.DataFrame'>\n",
      "RangeIndex: 5910 entries, 0 to 5909\n",
      "Data columns (total 6 columns):\n",
      " #   Column                  Non-Null Count  Dtype \n",
      "---  ------                  --------------  ----- \n",
      " 0   Unnamed: 0              5910 non-null   int64 \n",
      " 1   X_ray_image_name        5910 non-null   object\n",
      " 2   Label                   5910 non-null   object\n",
      " 3   Dataset_type            5910 non-null   object\n",
      " 4   Label_2_Virus_category  69 non-null     object\n",
      " 5   Label_1_Virus_category  4334 non-null   object\n",
      "dtypes: int64(1), object(5)\n",
      "memory usage: 277.2+ KB\n"
     ]
    }
   ],
   "source": [
    "metadata.info()"
   ]
  },
  {
   "cell_type": "code",
   "execution_count": 14,
   "id": "15d9b580-c746-4b45-bc7a-1130e5c5c668",
   "metadata": {},
   "outputs": [
    {
     "name": "stdout",
     "output_type": "stream",
     "text": [
      "List of null values for each column: \n",
      "\n",
      "                        count          %   types\n",
      "Label_2_Virus_category   5841  98.832487  object\n",
      "Label_1_Virus_category   1576  26.666667  object\n",
      "Unnamed: 0                  0   0.000000   int64\n",
      "X_ray_image_name            0   0.000000  object\n",
      "Label                       0   0.000000  object\n",
      "Dataset_type                0   0.000000  object\n"
     ]
    },
    {
     "data": {
      "text/plain": [
       "Unnamed: 0                   0\n",
       "X_ray_image_name             0\n",
       "Label                        0\n",
       "Dataset_type                 0\n",
       "Label_2_Virus_category    5841\n",
       "Label_1_Virus_category    1576\n",
       "dtype: int64"
      ]
     },
     "execution_count": 14,
     "metadata": {},
     "output_type": "execute_result"
    }
   ],
   "source": [
    "print(\"List of null values for each column: \\n\")\n",
    "Missing_count = metadata.isna().sum().sort_values(ascending = False)[:25]\n",
    "missing = pd.concat([Missing_count, (Missing_count/len(metadata))*100], axis=1, keys = [\"count\", \"%\"])\n",
    "missing_type = pd.concat([metadata.isna().sum().sort_values(ascending = False), (metadata.isna().sum().sort_values(ascending = False)/len(metadata))*100,metadata.dtypes], axis=1, keys = [\"count\", \"%\", \"types\"])\n",
    "print(missing_type.sort_values(by=[\"count\"], ascending = False))\n",
    "\n",
    "\n",
    "metadata.isnull().sum()"
   ]
  },
  {
   "cell_type": "code",
   "execution_count": 15,
   "id": "08e69d90-2eec-4d91-ab1d-5835ba64494d",
   "metadata": {},
   "outputs": [
    {
     "data": {
      "text/plain": [
       "Unnamed: 0                0\n",
       "X_ray_image_name          0\n",
       "Label                     0\n",
       "Dataset_type              0\n",
       "Label_2_Virus_category    0\n",
       "Label_1_Virus_category    0\n",
       "dtype: int64"
      ]
     },
     "execution_count": 15,
     "metadata": {},
     "output_type": "execute_result"
    }
   ],
   "source": [
    "#replace null data points to 'unknown'\n",
    "metadata.fillna('unknown', inplace=True)\n",
    "metadata.isnull().sum()"
   ]
  },
  {
   "cell_type": "code",
   "execution_count": 16,
   "id": "509cc4bb-a20e-450f-95a3-2e847ddd05d8",
   "metadata": {},
   "outputs": [
    {
     "name": "stdout",
     "output_type": "stream",
     "text": [
      "bacteria          2777\n",
      "unknown           1576\n",
      "Virus             1555\n",
      "Stress-Smoking       2\n",
      "Name: Label_1_Virus_category, dtype: int64\n",
      "unknown          5841\n",
      "COVID-19           58\n",
      "Streptococcus       5\n",
      "SARS                4\n",
      "ARDS                2\n",
      "Name: Label_2_Virus_category, dtype: int64\n"
     ]
    }
   ],
   "source": [
    "print((metadata['Label_1_Virus_category']).value_counts())\n",
    "print((metadata['Label_2_Virus_category']).value_counts())"
   ]
  },
  {
   "cell_type": "markdown",
   "id": "df9ef610-70d4-4f0c-856e-638a38fa9d34",
   "metadata": {},
   "source": [
    "#### WE NEED TO ADD MORE IMAGES TO BOOST MODEL PERFORMANCE CUZ THERE ARE ONLY 58 PICTURES WITH COVID"
   ]
  },
  {
   "cell_type": "code",
   "execution_count": 17,
   "id": "f4b09afb-5783-4eee-9f1e-cac77beded9e",
   "metadata": {},
   "outputs": [
    {
     "name": "stdout",
     "output_type": "stream",
     "text": [
      "Shape of train data: (5286, 6)\n",
      "Shape of test data: (624, 6)\n"
     ]
    }
   ],
   "source": [
    "print(f\"Shape of train data: {train_data.shape}\")\n",
    "print(f\"Shape of test data: {test_data.shape}\")"
   ]
  },
  {
   "cell_type": "code",
   "execution_count": null,
   "id": "a1a07732-a38d-4ec3-b4d4-4f080d37faf3",
   "metadata": {},
   "outputs": [],
   "source": []
  }
 ],
 "metadata": {
  "kernelspec": {
   "display_name": "Python 3 (ipykernel)",
   "language": "python",
   "name": "python3"
  },
  "language_info": {
   "codemirror_mode": {
    "name": "ipython",
    "version": 3
   },
   "file_extension": ".py",
   "mimetype": "text/x-python",
   "name": "python",
   "nbconvert_exporter": "python",
   "pygments_lexer": "ipython3",
   "version": "3.9.6"
  }
 },
 "nbformat": 4,
 "nbformat_minor": 5
}
